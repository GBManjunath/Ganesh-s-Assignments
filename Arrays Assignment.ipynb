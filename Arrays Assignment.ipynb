{
 "cells": [
  {
   "cell_type": "code",
   "execution_count": 2,
   "id": "acd518b8-1696-4a3b-8201-6538c97cafdb",
   "metadata": {},
   "outputs": [
    {
     "name": "stdout",
     "output_type": "stream",
     "text": [
      "True\n"
     ]
    }
   ],
   "source": [
    "#1. Given an array, check if it contains any duplicates or not.\n",
    "#arr = [1, 2, 4, 2, 5, 9]\n",
    "#Output = True1.  \n",
    "\n",
    "def contains_duplicates(arr):\n",
    "    seen = set()\n",
    "    for num in arr:\n",
    "        if num in seen:\n",
    "            return True\n",
    "        seen.add(num)\n",
    "    return False\n",
    "\n",
    "arr = [1, 2, 4, 2, 5, 9]\n",
    "output = contains_duplicates(arr)\n",
    "print(output)\n",
    "\n"
   ]
  },
  {
   "cell_type": "code",
   "execution_count": 3,
   "id": "e829aad5-bfc8-4d5e-a7ae-38081662ed64",
   "metadata": {},
   "outputs": [
    {
     "name": "stdout",
     "output_type": "stream",
     "text": [
      "[5, 6, 7, 1, 2, 3, 4]\n"
     ]
    }
   ],
   "source": [
    "#2. Given an array and an integer k, rotate the array to the right by k steps.\n",
    "#arr = [1, 2, 3, 4, 5, 6, 7] k = 3\n",
    "#Output = [5, 6, 7, 1, 2, 3, 4]\n",
    "\n",
    "def rotate_array(arr, k):\n",
    "    if not arr:\n",
    "        return arr\n",
    "\n",
    "    n = len(arr)\n",
    "    k = k % n  # In case k is larger than the array size, take the modulo to find the effective rotation.\n",
    "\n",
    "    if k == 0:\n",
    "        return arr\n",
    "\n",
    "    # Reverse the entire array.\n",
    "    reverse(arr, 0, n - 1)\n",
    "    # Reverse the first k elements.\n",
    "    reverse(arr, 0, k - 1)\n",
    "    # Reverse the remaining elements.\n",
    "    reverse(arr, k, n - 1)\n",
    "\n",
    "def reverse(arr, start, end):\n",
    "    while start < end:\n",
    "        arr[start], arr[end] = arr[end], arr[start]\n",
    "        start += 1\n",
    "        end -= 1\n",
    "\n",
    "arr = [1, 2, 3, 4, 5, 6, 7]\n",
    "k = 3\n",
    "rotate_array(arr, k)\n",
    "print(arr)"
   ]
  },
  {
   "cell_type": "code",
   "execution_count": 4,
   "id": "69bbcb9b-ee92-4f9d-b00f-3eea1a108487",
   "metadata": {},
   "outputs": [
    {
     "name": "stdout",
     "output_type": "stream",
     "text": [
      "[12, 9, 7, 5, 4, 2]\n"
     ]
    }
   ],
   "source": [
    "#3. Reverse the given array in-place, means without using any extra data structure.\n",
    "#arr = [2, 4, 5, 7, 9, 12]\n",
    "#Output = [12, 9, 7, 5, 4, 2]\n",
    "\n",
    "def reverse_array_in_place(arr):\n",
    "    start = 0\n",
    "    end = len(arr) - 1\n",
    "\n",
    "    while start < end:\n",
    "        arr[start], arr[end] = arr[end], arr[start]  # Swap elements at the start and end positions.\n",
    "        start += 1\n",
    "        end -= 1\n",
    "\n",
    "arr = [2, 4, 5, 7, 9, 12]\n",
    "reverse_array_in_place(arr)\n",
    "print(arr)"
   ]
  },
  {
   "cell_type": "code",
   "execution_count": 5,
   "id": "f498ca51-92fa-4bf8-a48c-d142c7926ea3",
   "metadata": {},
   "outputs": [
    {
     "name": "stdout",
     "output_type": "stream",
     "text": [
      "20\n"
     ]
    }
   ],
   "source": [
    "#4. Given an array of integers, find the maximum element in an array\n",
    "#arr = [10, 5, 20, 8, 15]\n",
    "#Output = 20\n",
    "\n",
    "def find_maximum(arr):\n",
    "    if not arr:\n",
    "        return None\n",
    "\n",
    "    max_element = arr[0]\n",
    "\n",
    "    for num in arr:\n",
    "        if num > max_element:\n",
    "            max_element = num\n",
    "\n",
    "    return max_element\n",
    "\n",
    "arr = [10, 5, 20, 8, 15]\n",
    "output = find_maximum(arr)\n",
    "print(output)"
   ]
  },
  {
   "cell_type": "code",
   "execution_count": 6,
   "id": "4b6db72d-8c22-43d5-a528-f40f7f906a61",
   "metadata": {},
   "outputs": [
    {
     "name": "stdout",
     "output_type": "stream",
     "text": [
      "[1, 2, 3, 4, 5]\n"
     ]
    }
   ],
   "source": [
    "#5. Given a sorted array, remove the duplicate element without using any extra data structure.\n",
    "#arr = [1, 1, 2, 2, 2, 3, 3, 4, 4, 4, 5, 5]\n",
    "#Output = [1, 2, 3, 4, 5]\n",
    "\n",
    "\n",
    "def remove_duplicates(arr):\n",
    "    if not arr:\n",
    "        return arr\n",
    "\n",
    "    # Initialize the index for the next unique element.\n",
    "    unique_index = 0\n",
    "\n",
    "    for i in range(1, len(arr)):\n",
    "        if arr[i] != arr[unique_index]:\n",
    "            unique_index += 1\n",
    "            arr[unique_index] = arr[i]\n",
    "\n",
    "    # Slice the array to retain only the unique elements.\n",
    "    arr[:] = arr[:unique_index + 1]\n",
    "\n",
    "arr = [1, 1, 2, 2, 2, 3, 3, 4, 4, 4, 5, 5]\n",
    "remove_duplicates(arr)\n",
    "print(arr)"
   ]
  },
  {
   "cell_type": "code",
   "execution_count": null,
   "id": "43b7daae-3512-42ec-abe5-b4d1c573ee24",
   "metadata": {},
   "outputs": [],
   "source": []
  }
 ],
 "metadata": {
  "kernelspec": {
   "display_name": "Python 3 (ipykernel)",
   "language": "python",
   "name": "python3"
  },
  "language_info": {
   "codemirror_mode": {
    "name": "ipython",
    "version": 3
   },
   "file_extension": ".py",
   "mimetype": "text/x-python",
   "name": "python",
   "nbconvert_exporter": "python",
   "pygments_lexer": "ipython3",
   "version": "3.10.8"
  }
 },
 "nbformat": 4,
 "nbformat_minor": 5
}
