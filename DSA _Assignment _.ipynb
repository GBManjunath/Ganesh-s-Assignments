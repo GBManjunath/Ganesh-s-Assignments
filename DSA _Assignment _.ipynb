{
 "cells": [
  {
   "cell_type": "code",
   "execution_count": 1,
   "id": "f0b99552-7cf9-4e80-b56d-16a097b3ad7e",
   "metadata": {},
   "outputs": [
    {
     "name": "stdin",
     "output_type": "stream",
     "text": [
      "Enter values for the linked list (space-separated):  1 2 3 4 5\n"
     ]
    },
    {
     "name": "stdout",
     "output_type": "stream",
     "text": [
      "Original Linked List:\n",
      "1 -> None\n",
      "\n",
      "Reversed Linked List:\n",
      "5 -> 4 -> 3 -> 2 -> 1 -> None\n"
     ]
    }
   ],
   "source": [
    "class ListNode:\n",
    "    def __init__(self, value=0, next=None):\n",
    "        self.value = value\n",
    "        self.next = next\n",
    "\n",
    "def reverse_linked_list(head):\n",
    "    prev = None\n",
    "    current = head\n",
    "    while current:\n",
    "        next_node = current.next\n",
    "        current.next = prev\n",
    "        prev = current\n",
    "        current = next_node\n",
    "    return prev\n",
    "\n",
    "def print_linked_list(head):\n",
    "    current = head\n",
    "    while current:\n",
    "        print(current.value, end=\" -> \")\n",
    "        current = current.next\n",
    "    print(\"None\")\n",
    "\n",
    "# Helper function to create a linked list from a list of values\n",
    "def create_linked_list(values):\n",
    "    if not values:\n",
    "        return None\n",
    "    head = ListNode(values[0])\n",
    "    current = head\n",
    "    for value in values[1:]:\n",
    "        current.next = ListNode(value)\n",
    "        current = current.next\n",
    "    return head\n",
    "\n",
    "# Get user input for linked list values\n",
    "values = list(map(int, input(\"Enter values for the linked list (space-separated): \").split()))\n",
    "\n",
    "# Create linked list\n",
    "linked_list = create_linked_list(values)\n",
    "\n",
    "# Problem 1: Reverse a singly linked list.\n",
    "reversed_list = reverse_linked_list(linked_list)\n",
    "\n",
    "# Print the original and reversed linked lists\n",
    "print(\"Original Linked List:\")\n",
    "print_linked_list(linked_list)\n",
    "\n",
    "print(\"\\nReversed Linked List:\")\n",
    "print_linked_list(reversed_list)"
   ]
  },
  {
   "cell_type": "code",
   "execution_count": 4,
   "id": "a86332e7-d631-46cb-b63d-a9f1ded8c417",
   "metadata": {},
   "outputs": [
    {
     "name": "stdin",
     "output_type": "stream",
     "text": [
      "Enter values for the first sorted linked list (space-separated):  1 3 5\n",
      "Enter values for the second sorted linked list (space-separated):  2 4 6\n"
     ]
    },
    {
     "name": "stdout",
     "output_type": "stream",
     "text": [
      "\n",
      "First Sorted Linked List:\n",
      "1 -> 2 -> 3 -> 4 -> 5 -> 6 -> None\n",
      "\n",
      "Second Sorted Linked List:\n",
      "2 -> 3 -> 4 -> 5 -> 6 -> None\n",
      "\n",
      "Merged Sorted Linked List:\n",
      "1 -> 2 -> 3 -> 4 -> 5 -> 6 -> None\n"
     ]
    }
   ],
   "source": [
    "#Problem 2: Merge two sorted linked lists into one sorted linked list.\n",
    "\n",
    "class ListNode:\n",
    "    def __init__(self, value=0, next=None):\n",
    "        self.value = value\n",
    "        self.next = next\n",
    "\n",
    "def merge_sorted_lists(list1, list2):\n",
    "    dummy = ListNode()\n",
    "    current = dummy\n",
    "    while list1 and list2:\n",
    "        if list1.value < list2.value:\n",
    "            current.next = list1\n",
    "            list1 = list1.next\n",
    "        else:\n",
    "            current.next = list2\n",
    "            list2 = list2.next\n",
    "        current = current.next\n",
    "    current.next = list1 or list2\n",
    "    return dummy.next\n",
    "\n",
    "def print_linked_list(head):\n",
    "    current = head\n",
    "    while current:\n",
    "        print(current.value, end=\" -> \")\n",
    "        current = current.next\n",
    "    print(\"None\")\n",
    "\n",
    "# Helper function to create a linked list from a list of values\n",
    "def create_linked_list(values):\n",
    "    if not values:\n",
    "        return None\n",
    "    head = ListNode(values[0])\n",
    "    current = head\n",
    "    for value in values[1:]:\n",
    "        current.next = ListNode(value)\n",
    "        current = current.next\n",
    "    return head\n",
    "\n",
    "# Get user input for values of the first sorted linked list\n",
    "list1_values = list(map(int, input(\"Enter values for the first sorted linked list (space-separated): \").split()))\n",
    "\n",
    "# Get user input for values of the second sorted linked list\n",
    "list2_values = list(map(int, input(\"Enter values for the second sorted linked list (space-separated): \").split()))\n",
    "\n",
    "# Create linked lists\n",
    "list1 = create_linked_list(list1_values)\n",
    "list2 = create_linked_list(list2_values)\n",
    "\n",
    "# Problem 2: Merge two sorted linked lists into one sorted linked list.\n",
    "merged_list = merge_sorted_lists(list1, list2)\n",
    "\n",
    "# Print the original and merged linked lists\n",
    "print(\"\\nFirst Sorted Linked List:\")\n",
    "print_linked_list(list1)\n",
    "\n",
    "print(\"\\nSecond Sorted Linked List:\")\n",
    "print_linked_list(list2)\n",
    "\n",
    "print(\"\\nMerged Sorted Linked List:\")\n",
    "print_linked_list(merged_list)"
   ]
  },
  {
   "cell_type": "code",
   "execution_count": 5,
   "id": "6af6caa4-edf6-4a80-a456-6237a5e462bf",
   "metadata": {},
   "outputs": [
    {
     "name": "stdin",
     "output_type": "stream",
     "text": [
      "Enter values for the linked list (space-separated):  1 2 3 4 5\n",
      "Enter the value of n:  2\n"
     ]
    },
    {
     "name": "stdout",
     "output_type": "stream",
     "text": [
      "\n",
      "Original Linked List:\n",
      "1 -> 2 -> 3 -> 5 -> None\n",
      "\n",
      "Linked List after removing the nth node from the end:\n",
      "1 -> 2 -> 3 -> 5 -> None\n"
     ]
    }
   ],
   "source": [
    "#Problem 3: Remove the nth node from the end of a linked list.\n",
    "\n",
    "class ListNode:\n",
    "    def __init__(self, value=0, next=None):\n",
    "        self.value = value\n",
    "        self.next = next\n",
    "\n",
    "def remove_nth_from_end(head, n):\n",
    "    dummy = ListNode(0)\n",
    "    dummy.next = head\n",
    "    fast = slow = dummy\n",
    "\n",
    "    # Move the fast pointer n+1 steps ahead\n",
    "    for _ in range(n + 1):\n",
    "        fast = fast.next\n",
    "\n",
    "    # Move both pointers until the fast pointer reaches the end\n",
    "    while fast:\n",
    "        fast = fast.next\n",
    "        slow = slow.next\n",
    "\n",
    "    # Remove the nth node from the end\n",
    "    slow.next = slow.next.next\n",
    "\n",
    "    return dummy.next\n",
    "\n",
    "def print_linked_list(head):\n",
    "    current = head\n",
    "    while current:\n",
    "        print(current.value, end=\" -> \")\n",
    "        current = current.next\n",
    "    print(\"None\")\n",
    "\n",
    "# Helper function to create a linked list from a list of values\n",
    "def create_linked_list(values):\n",
    "    if not values:\n",
    "        return None\n",
    "    head = ListNode(values[0])\n",
    "    current = head\n",
    "    for value in values[1:]:\n",
    "        current.next = ListNode(value)\n",
    "        current = current.next\n",
    "    return head\n",
    "\n",
    "# Get user input for linked list values\n",
    "values = list(map(int, input(\"Enter values for the linked list (space-separated): \").split()))\n",
    "\n",
    "# Create linked list\n",
    "linked_list = create_linked_list(values)\n",
    "\n",
    "# Get user input for the value of n\n",
    "n = int(input(\"Enter the value of n: \"))\n",
    "\n",
    "# Problem 3: Remove the nth node from the end of a linked list.\n",
    "modified_list = remove_nth_from_end(linked_list, n)\n",
    "\n",
    "# Print the original and modified linked lists\n",
    "print(\"\\nOriginal Linked List:\")\n",
    "print_linked_list(linked_list)\n",
    "\n",
    "print(\"\\nLinked List after removing the nth node from the end:\")\n",
    "print_linked_list(modified_list)"
   ]
  },
  {
   "cell_type": "code",
   "execution_count": 1,
   "id": "d6356d0a-11e3-4ad8-8cea-f3a67102b267",
   "metadata": {},
   "outputs": [
    {
     "name": "stdin",
     "output_type": "stream",
     "text": [
      "Enter values for the linked list (space-separated):  1 1 2 3 3\n",
      "Enter the value of n:  4\n"
     ]
    },
    {
     "name": "stdout",
     "output_type": "stream",
     "text": [
      "\n",
      "Original Linked List:\n",
      "1 -> 2 -> 3 -> 3 -> None\n",
      "\n",
      "Linked List after removing the nth node from the end:\n",
      "1 -> 2 -> 3 -> 3 -> None\n"
     ]
    },
    {
     "name": "stdin",
     "output_type": "stream",
     "text": [
      "Enter values for the sorted linked list (space-separated):  1 2 3 3\n"
     ]
    },
    {
     "name": "stdout",
     "output_type": "stream",
     "text": [
      "\n",
      "Sorted Linked List with Duplicates:\n",
      "1 -> 2 -> 3 -> None\n",
      "\n",
      "Sorted Linked List after Removing Duplicates:\n",
      "1 -> 2 -> 3 -> None\n"
     ]
    }
   ],
   "source": [
    "#Problem 5: Remove duplicates from a sorted linked list.\n",
    "\n",
    "class ListNode:\n",
    "    def __init__(self, value=0, next=None):\n",
    "        self.value = value\n",
    "        self.next = next\n",
    "\n",
    "def remove_nth_from_end(head, n):\n",
    "    dummy = ListNode(0)\n",
    "    dummy.next = head\n",
    "    fast = slow = dummy\n",
    "\n",
    "    # Move the fast pointer n+1 steps ahead\n",
    "    for _ in range(n + 1):\n",
    "        fast = fast.next\n",
    "\n",
    "    # Move both pointers until the fast pointer reaches the end\n",
    "    while fast:\n",
    "        fast = fast.next\n",
    "        slow = slow.next\n",
    "\n",
    "    # Remove the nth node from the end\n",
    "    slow.next = slow.next.next\n",
    "\n",
    "    return dummy.next\n",
    "\n",
    "def print_linked_list(head):\n",
    "    current = head\n",
    "    while current:\n",
    "        print(current.value, end=\" -> \")\n",
    "        current = current.next\n",
    "    print(\"None\")\n",
    "\n",
    "# Helper function to create a linked list from a list of values\n",
    "def create_linked_list(values):\n",
    "    if not values:\n",
    "        return None\n",
    "    head = ListNode(values[0])\n",
    "    current = head\n",
    "    for value in values[1:]:\n",
    "        current.next = ListNode(value)\n",
    "        current = current.next\n",
    "    return head\n",
    "\n",
    "# Get user input for linked list values\n",
    "values = list(map(int, input(\"Enter values for the linked list (space-separated): \").split()))\n",
    "\n",
    "# Create linked list\n",
    "linked_list = create_linked_list(values)\n",
    "\n",
    "# Get user input for the value of n\n",
    "n = int(input(\"Enter the value of n: \"))\n",
    "\n",
    "# Problem 3: Remove the nth node from the end of a linked list.\n",
    "modified_list = remove_nth_from_end(linked_list, n)\n",
    "\n",
    "# Print the original and modified linked lists\n",
    "print(\"\\nOriginal Linked List:\")\n",
    "print_linked_list(linked_list)\n",
    "\n",
    "print(\"\\nLinked List after removing the nth node from the end:\")\n",
    "print_linked_list(modified_list)\n",
    " \n",
    "#Problem 5: Remove duplicates from a sorted linked list.\n",
    " \n",
    "class ListNode:\n",
    "    def __init__(self, value=0, next=None):\n",
    "        self.value = value\n",
    "        self.next = next\n",
    "\n",
    "def remove_duplicates(head):\n",
    "    current = head\n",
    "    while current and current.next:\n",
    "        if current.value == current.next.value:\n",
    "            current.next = current.next.next\n",
    "        else:\n",
    "            current = current.next\n",
    "    return head\n",
    "\n",
    "def print_linked_list(head):\n",
    "    current = head\n",
    "    while current:\n",
    "        print(current.value, end=\" -> \")\n",
    "        current = current.next\n",
    "    print(\"None\")\n",
    "\n",
    "# Helper function to create a linked list from a list of values\n",
    "def create_linked_list(values):\n",
    "    if not values:\n",
    "        return None\n",
    "    head = ListNode(values[0])\n",
    "    current = head\n",
    "    for value in values[1:]:\n",
    "        current.next = ListNode(value)\n",
    "        current = current.next\n",
    "    return head\n",
    "\n",
    "# Get user input for sorted linked list values\n",
    "values = list(map(int, input(\"Enter values for the sorted linked list (space-separated): \").split()))\n",
    "\n",
    "# Create sorted linked list\n",
    "sorted_linked_list = create_linked_list(values)\n",
    "\n",
    "# Problem 5: Remove duplicates from a sorted linked list.\n",
    "unique_list = remove_duplicates(sorted_linked_list)\n",
    "\n",
    "# Print the original and modified linked lists\n",
    "print(\"\\nSorted Linked List with Duplicates:\")\n",
    "print_linked_list(sorted_linked_list)\n",
    "\n",
    "print(\"\\nSorted Linked List after Removing Duplicates:\")\n",
    "print_linked_list(unique_list)\n"
   ]
  },
  {
   "cell_type": "code",
   "execution_count": 2,
   "id": "fe61ed88-b1a7-4832-a1b1-f2c9217f351e",
   "metadata": {},
   "outputs": [
    {
     "name": "stdin",
     "output_type": "stream",
     "text": [
      "Enter values for the first number linked list (space-separated):  2 4 3\n",
      "Enter values for the second number linked list (space-separated):  5 6 4\n"
     ]
    },
    {
     "name": "stdout",
     "output_type": "stream",
     "text": [
      "\n",
      "First Number Linked List:\n",
      "2 -> 4 -> 3 -> None\n",
      "\n",
      "Second Number Linked List:\n",
      "5 -> 6 -> 4 -> None\n",
      "\n",
      "Sum of Two Numbers Linked List:\n",
      "7 -> 0 -> 8 -> None\n"
     ]
    }
   ],
   "source": [
    "#Problem 6: Add two numbers represented by linked lists (where each node contains a single digit).\n",
    "\n",
    "class ListNode:\n",
    "    def __init__(self, value=0, next=None):\n",
    "        self.value = value\n",
    "        self.next = next\n",
    "\n",
    "def add_two_numbers(list1, list2):\n",
    "    dummy = ListNode()\n",
    "    current = dummy\n",
    "    carry = 0\n",
    "\n",
    "    while list1 or list2 or carry:\n",
    "        sum_val = (list1.value if list1 else 0) + (list2.value if list2 else 0) + carry\n",
    "        carry, digit = divmod(sum_val, 10)\n",
    "        current.next = ListNode(digit)\n",
    "        current = current.next\n",
    "\n",
    "        if list1:\n",
    "            list1 = list1.next\n",
    "        if list2:\n",
    "            list2 = list2.next\n",
    "\n",
    "    return dummy.next\n",
    "\n",
    "def print_linked_list(head):\n",
    "    current = head\n",
    "    while current:\n",
    "        print(current.value, end=\" -> \")\n",
    "        current = current.next\n",
    "    print(\"None\")\n",
    "\n",
    "# Helper function to create a linked list from a list of values\n",
    "def create_linked_list(values):\n",
    "    if not values:\n",
    "        return None\n",
    "    head = ListNode(values[0])\n",
    "    current = head\n",
    "    for value in values[1:]:\n",
    "        current.next = ListNode(value)\n",
    "        current = current.next\n",
    "    return head\n",
    "\n",
    "# Get user input for values of the first number linked list\n",
    "num1_values = list(map(int, input(\"Enter values for the first number linked list (space-separated): \").split()))\n",
    "\n",
    "# Get user input for values of the second number linked list\n",
    "num2_values = list(map(int, input(\"Enter values for the second number linked list (space-separated): \").split()))\n",
    "\n",
    "# Create linked lists for the two numbers\n",
    "num1 = create_linked_list(num1_values)\n",
    "num2 = create_linked_list(num2_values)\n",
    "\n",
    "# Problem 6: Add two numbers represented by linked lists.\n",
    "sum_list = add_two_numbers(num1, num2)\n",
    "\n",
    "# Print the two numbers and their sum\n",
    "print(\"\\nFirst Number Linked List:\")\n",
    "print_linked_list(num1)\n",
    "\n",
    "print(\"\\nSecond Number Linked List:\")\n",
    "print_linked_list(num2)\n",
    "\n",
    "print(\"\\nSum of Two Numbers Linked List:\")\n",
    "print_linked_list(sum_list)"
   ]
  },
  {
   "cell_type": "code",
   "execution_count": 3,
   "id": "90535efa-138c-4860-9b9a-767410df5fbb",
   "metadata": {},
   "outputs": [
    {
     "name": "stdin",
     "output_type": "stream",
     "text": [
      "Enter values for the linked list (space-separated):  1 2 3 4\n"
     ]
    },
    {
     "name": "stdout",
     "output_type": "stream",
     "text": [
      "\n",
      "Original Linked List:\n",
      "1 -> 4 -> 3 -> None\n",
      "\n",
      "Linked List after Swapping Nodes in Pairs:\n",
      "2 -> 1 -> 4 -> 3 -> None\n"
     ]
    }
   ],
   "source": [
    "#Problem 7: Swap nodes in pairs in a linked list.\n",
    "\n",
    "class ListNode:\n",
    "    def __init__(self, value=0, next=None):\n",
    "        self.value = value\n",
    "        self.next = next\n",
    "\n",
    "def swap_pairs(head):\n",
    "    dummy = ListNode()\n",
    "    dummy.next = head\n",
    "    current = dummy\n",
    "\n",
    "    while current.next and current.next.next:\n",
    "        first = current.next\n",
    "        second = current.next.next\n",
    "\n",
    "        # Swap nodes\n",
    "        current.next = second\n",
    "        first.next = second.next\n",
    "        second.next = first\n",
    "\n",
    "        current = current.next.next\n",
    "\n",
    "    return dummy.next\n",
    "\n",
    "def print_linked_list(head):\n",
    "    current = head\n",
    "    while current:\n",
    "        print(current.value, end=\" -> \")\n",
    "        current = current.next\n",
    "    print(\"None\")\n",
    "\n",
    "# Helper function to create a linked list from a list of values\n",
    "def create_linked_list(values):\n",
    "    if not values:\n",
    "        return None\n",
    "    head = ListNode(values[0])\n",
    "    current = head\n",
    "    for value in values[1:]:\n",
    "        current.next = ListNode(value)\n",
    "        current = current.next\n",
    "    return head\n",
    "\n",
    "# Get user input for linked list values\n",
    "values = list(map(int, input(\"Enter values for the linked list (space-separated): \").split()))\n",
    "\n",
    "# Create linked list\n",
    "linked_list = create_linked_list(values)\n",
    "\n",
    "# Problem 7: Swap nodes in pairs in a linked list.\n",
    "swapped_list = swap_pairs(linked_list)\n",
    "\n",
    "# Print the original and swapped linked lists\n",
    "print(\"\\nOriginal Linked List:\")\n",
    "print_linked_list(linked_list)\n",
    "\n",
    "print(\"\\nLinked List after Swapping Nodes in Pairs:\")\n",
    "print_linked_list(swapped_list)"
   ]
  },
  {
   "cell_type": "code",
   "execution_count": 10,
   "id": "57e9e365-1fed-4c9d-8f74-5f1cbb52efd4",
   "metadata": {},
   "outputs": [
    {
     "name": "stdin",
     "output_type": "stream",
     "text": [
      "Enter values for the linked list (space-separated):  1 2 3 4 5\n",
      "Enter the value of k:  3\n"
     ]
    },
    {
     "name": "stdout",
     "output_type": "stream",
     "text": [
      "\n",
      "Original Linked List:\n",
      "1 -> 4 -> 5 -> None\n",
      "\n",
      "Linked List after Reversing Nodes in Groups of 3:\n",
      "2 -> 1 -> 4 -> 5 -> None\n"
     ]
    }
   ],
   "source": [
    "#Problem 8: Reverse nodes in a linked list in groups of k.\n",
    "\n",
    "class ListNode:\n",
    "    def __init__(self, value=0, next=None):\n",
    "        self.value = value\n",
    "        self.next = next\n",
    "\n",
    "def reverse_k_groups(head, k):\n",
    "    def reverse_group(start, end):\n",
    "        prev, current = None, start\n",
    "        while current != end:\n",
    "            next_node = current.next\n",
    "            current.next = prev\n",
    "            prev = current\n",
    "            current = next_node\n",
    "        return prev\n",
    "\n",
    "    dummy = ListNode()\n",
    "    dummy.next = head\n",
    "    current = dummy\n",
    "\n",
    "    while True:\n",
    "        start = current.next\n",
    "        end = current\n",
    "        for _ in range(k):\n",
    "            end = end.next\n",
    "            if not end:\n",
    "                return dummy.next\n",
    "        next_group = end.next\n",
    "        reversed_group = reverse_group(start, end)\n",
    "        current.next = reversed_group\n",
    "        start.next = next_group\n",
    "        current = start\n",
    "\n",
    "def print_linked_list(head):\n",
    "    current = head\n",
    "    while current:\n",
    "        print(current.value, end=\" -> \")\n",
    "        current = current.next\n",
    "    print(\"None\")\n",
    "\n",
    "# Helper function to create a linked list from a list of values\n",
    "def create_linked_list(values):\n",
    "    if not values:\n",
    "        return None\n",
    "    head = ListNode(values[0])\n",
    "    current = head\n",
    "    for value in values[1:]:\n",
    "        current.next = ListNode(value)\n",
    "        current = current.next\n",
    "    return head\n",
    "\n",
    "# Get user input for linked list values\n",
    "values = list(map(int, input(\"Enter values for the linked list (space-separated): \").split()))\n",
    "\n",
    "# Create linked list\n",
    "linked_list = create_linked_list(values)\n",
    "\n",
    "# Get user input for the value of k\n",
    "k = int(input(\"Enter the value of k: \"))\n",
    "\n",
    "# Problem 8: Reverse nodes in a linked list in groups of k.\n",
    "reversed_list = reverse_k_groups(linked_list, k)\n",
    "\n",
    "# Print the original and reversed linked lists\n",
    "print(\"\\nOriginal Linked List:\")\n",
    "print_linked_list(linked_list)\n",
    "\n",
    "print(f\"\\nLinked List after Reversing Nodes in Groups of {k}:\")\n",
    "print_linked_list(reversed_list)"
   ]
  },
  {
   "cell_type": "code",
   "execution_count": 11,
   "id": "9f02de9f-58aa-4e32-8eb7-e904f7a57b92",
   "metadata": {},
   "outputs": [
    {
     "name": "stdin",
     "output_type": "stream",
     "text": [
      "Enter values for the linked list (space-separated):  1 2 2 1\n"
     ]
    },
    {
     "name": "stdout",
     "output_type": "stream",
     "text": [
      "\n",
      "Original Linked List:\n",
      "1 -> 2 -> 2 -> None\n",
      "\n",
      "Is the Linked List a Palindrome? True\n"
     ]
    }
   ],
   "source": [
    "#Problem 9: Determine if a linked list is a palindrome.\n",
    "\n",
    "class ListNode:\n",
    "    def __init__(self, value=0, next=None):\n",
    "        self.value = value\n",
    "        self.next = next\n",
    "\n",
    "def is_palindrome(head):\n",
    "    def reverse_list(start):\n",
    "        prev, current = None, start\n",
    "        while current:\n",
    "            next_node = current.next\n",
    "            current.next = prev\n",
    "            prev = current\n",
    "            current = next_node\n",
    "        return prev\n",
    "\n",
    "    slow = fast = head\n",
    "\n",
    "    # Move slow and fast pointers to find the middle of the list\n",
    "    while fast and fast.next:\n",
    "        slow = slow.next\n",
    "        fast = fast.next.next\n",
    "\n",
    "    # Reverse the second half of the list\n",
    "    reversed_second_half = reverse_list(slow)\n",
    "\n",
    "    # Compare the first half with the reversed second half\n",
    "    while reversed_second_half:\n",
    "        if head.value != reversed_second_half.value:\n",
    "            return False\n",
    "        head = head.next\n",
    "        reversed_second_half = reversed_second_half.next\n",
    "\n",
    "    return True\n",
    "\n",
    "def print_linked_list(head):\n",
    "    current = head\n",
    "    while current:\n",
    "        print(current.value, end=\" -> \")\n",
    "        current = current.next\n",
    "    print(\"None\")\n",
    "\n",
    "# Helper function to create a linked list from a list of values\n",
    "def create_linked_list(values):\n",
    "    if not values:\n",
    "        return None\n",
    "    head = ListNode(values[0])\n",
    "    current = head\n",
    "    for value in values[1:]:\n",
    "        current.next = ListNode(value)\n",
    "        current = current.next\n",
    "    return head\n",
    "\n",
    "# Get user input for linked list values\n",
    "values = list(map(int, input(\"Enter values for the linked list (space-separated): \").split()))\n",
    "\n",
    "# Create linked list\n",
    "linked_list = create_linked_list(values)\n",
    "\n",
    "# Problem 9: Determine if a linked list is a palindrome.\n",
    "result = is_palindrome(linked_list)\n",
    "\n",
    "# Print the original linked list and the result\n",
    "print(\"\\nOriginal Linked List:\")\n",
    "print_linked_list(linked_list)\n",
    "\n",
    "print(\"\\nIs the Linked List a Palindrome?\", result)"
   ]
  },
  {
   "cell_type": "code",
   "execution_count": 13,
   "id": "e9e8dfff-916a-4950-95a8-ae1400bd0971",
   "metadata": {},
   "outputs": [
    {
     "name": "stdin",
     "output_type": "stream",
     "text": [
      "Enter values for the linked list (space-separated):  1 2 3 4 5\n",
      "Enter the value of k:  2\n"
     ]
    },
    {
     "name": "stdout",
     "output_type": "stream",
     "text": [
      "\n",
      "Original Linked List:\n",
      "1 -> 2 -> 3 -> None\n",
      "\n",
      "Linked List after Rotating to the Right by 2 places:\n",
      "4 -> 5 -> 1 -> 2 -> 3 -> None\n"
     ]
    }
   ],
   "source": [
    "#Problem 10: Rotate a linked list to the right by k places.\n",
    "\n",
    "class ListNode:\n",
    "    def __init__(self, value=0, next=None):\n",
    "        self.value = value\n",
    "        self.next = next\n",
    "\n",
    "def rotate_right(head, k):\n",
    "    if not head or k == 0:\n",
    "        return head\n",
    "\n",
    "    # Find the length of the linked list\n",
    "    length = 1\n",
    "    tail = head\n",
    "    while tail.next:\n",
    "        length += 1\n",
    "        tail = tail.next\n",
    "\n",
    "    # Calculate the effective rotation\n",
    "    k = k % length\n",
    "\n",
    "    if k == 0:\n",
    "        return head\n",
    "\n",
    "    # Move the tail to the new end after rotation\n",
    "    new_tail_position = length - k\n",
    "    new_tail = head\n",
    "    for _ in range(new_tail_position - 1):\n",
    "        new_tail = new_tail.next\n",
    "\n",
    "    # Perform the rotation\n",
    "    new_head = new_tail.next\n",
    "    new_tail.next = None\n",
    "    tail.next = head\n",
    "\n",
    "    return new_head\n",
    "\n",
    "def print_linked_list(head):\n",
    "    current = head\n",
    "    while current:\n",
    "        print(current.value, end=\" -> \")\n",
    "        current = current.next\n",
    "    print(\"None\")\n",
    "\n",
    "# Helper function to create a linked list from a list of values\n",
    "def create_linked_list(values):\n",
    "    if not values:\n",
    "        return None\n",
    "    head = ListNode(values[0])\n",
    "    current = head\n",
    "    for value in values[1:]:\n",
    "        current.next = ListNode(value)\n",
    "        current = current.next\n",
    "    return head\n",
    "\n",
    "# Get user input for linked list values\n",
    "values = list(map(int, input(\"Enter values for the linked list (space-separated): \").split()))\n",
    "\n",
    "# Create linked list\n",
    "linked_list = create_linked_list(values)\n",
    "\n",
    "# Get user input for the value of k\n",
    "k = int(input(\"Enter the value of k: \"))\n",
    "\n",
    "# Problem 10: Rotate a linked list to the right by k places.\n",
    "rotated_list = rotate_right(linked_list, k)\n",
    "\n",
    "# Print the original and rotated linked lists\n",
    "print(\"\\nOriginal Linked List:\")\n",
    "print_linked_list(linked_list)\n",
    "\n",
    "print(f\"\\nLinked List after Rotating to the Right by {k} places:\")\n",
    "print_linked_list(rotated_list)"
   ]
  },
  {
   "cell_type": "code",
   "execution_count": 16,
   "id": "d0b9ab4b-8aee-4ca5-8e37-576447d0aa72",
   "metadata": {},
   "outputs": [
    {
     "name": "stdin",
     "output_type": "stream",
     "text": [
      "Enter values for the multilevel doubly linked list (space-separated):  1 2 3 7 8 11 12 4 5 9 10 6 13\n"
     ]
    },
    {
     "name": "stdout",
     "output_type": "stream",
     "text": [
      "\n",
      "Original Multilevel Doubly Linked List:\n",
      "1 <-> 2 <-> 3 <-> 7 <-> 8 <-> 11 <-> 12 <-> 4 <-> 5 <-> 9 <-> 10 <-> 6 <-> 13 <-> None\n",
      "\n",
      "Flattened Multilevel Doubly Linked List:\n",
      "1 <-> 2 <-> 3 <-> 7 <-> 8 <-> 11 <-> 12 <-> 4 <-> 5 <-> 9 <-> 10 <-> 6 <-> 13 <-> None\n"
     ]
    }
   ],
   "source": [
    "#Problem 11: Flatten a multilevel doubly linked list.\n",
    "\n",
    "class Node:\n",
    "    def __init__(self, value=0, prev=None, next=None, child=None):\n",
    "        self.value = value\n",
    "        self.prev = prev\n",
    "        self.next = next\n",
    "        self.child = child\n",
    "\n",
    "def flatten_multilevel_dll(head):\n",
    "    current = head\n",
    "\n",
    "    while current:\n",
    "        if current.child:\n",
    "            next_node = current.next\n",
    "            current.next = current.child\n",
    "            current.child.prev = current\n",
    "            current.child = None\n",
    "\n",
    "            child_end = current.next\n",
    "            while child_end.next:\n",
    "                child_end = child_end.next\n",
    "\n",
    "            if next_node:\n",
    "                child_end.next = next_node\n",
    "                next_node.prev = child_end\n",
    "\n",
    "        current = current.next\n",
    "\n",
    "    return head\n",
    "\n",
    "def print_multilevel_dll(head):\n",
    "    current = head\n",
    "    while current:\n",
    "        print(current.value, end=\" <-> \")\n",
    "        current = current.next\n",
    "    print(\"None\")\n",
    "\n",
    "# Helper function to create a multilevel doubly linked list\n",
    "def create_multilevel_dll(values):\n",
    "    if not values:\n",
    "        return None\n",
    "\n",
    "    head = Node(values[0])\n",
    "    current = head\n",
    "    for value in values[1:]:\n",
    "        current.next = Node(value, prev=current)\n",
    "        current = current.next\n",
    "\n",
    "    return head\n",
    "\n",
    "# Get user input for multilevel doubly linked list values\n",
    "values = list(map(int, input(\"Enter values for the multilevel doubly linked list (space-separated): \").split()))\n",
    "\n",
    "# Create multilevel doubly linked list\n",
    "multilevel_dll = create_multilevel_dll(values)\n",
    "\n",
    "# Problem 11: Flatten a multilevel doubly linked list.\n",
    "flattened_dll = flatten_multilevel_dll(multilevel_dll)\n",
    "\n",
    "# Print the original and flattened multilevel doubly linked lists\n",
    "print(\"\\nOriginal Multilevel Doubly Linked List:\")\n",
    "print_multilevel_dll(multilevel_dll)\n",
    "\n",
    "print(\"\\nFlattened Multilevel Doubly Linked List:\")\n",
    "print_multilevel_dll(flattened_dll)"
   ]
  },
  {
   "cell_type": "code",
   "execution_count": 17,
   "id": "7b46cb38-0392-4b13-81ce-d9b2611e5c57",
   "metadata": {},
   "outputs": [
    {
     "name": "stdin",
     "output_type": "stream",
     "text": [
      "Enter values for the linked list (space-separated):  1 2 3 4 5\n"
     ]
    },
    {
     "name": "stdout",
     "output_type": "stream",
     "text": [
      "\n",
      "Original Linked List:\n",
      "1 -> 3 -> 5 -> 2 -> 4 -> None\n",
      "\n",
      "Rearranged Linked List:\n",
      "1 -> 3 -> 5 -> 2 -> 4 -> None\n"
     ]
    }
   ],
   "source": [
    "#Problem 12: Rearrange a linked list such that all even positioned nodes are placed at the end.\n",
    "\n",
    "class ListNode:\n",
    "    def __init__(self, value=0, next=None):\n",
    "        self.value = value\n",
    "        self.next = next\n",
    "\n",
    "def rearrange_linked_list(head):\n",
    "    if not head or not head.next or not head.next.next:\n",
    "        return head\n",
    "\n",
    "    odd_head = head\n",
    "    even_head = head.next\n",
    "    odd_current = odd_head\n",
    "    even_current = even_head\n",
    "\n",
    "    while even_current and even_current.next:\n",
    "        odd_current.next = even_current.next\n",
    "        odd_current = odd_current.next\n",
    "        even_current.next = odd_current.next\n",
    "        even_current = even_current.next\n",
    "\n",
    "    odd_current.next = even_head\n",
    "\n",
    "    return odd_head\n",
    "\n",
    "def print_linked_list(head):\n",
    "    current = head\n",
    "    while current:\n",
    "        print(current.value, end=\" -> \")\n",
    "        current = current.next\n",
    "    print(\"None\")\n",
    "\n",
    "# Helper function to create a linked list from a list of values\n",
    "def create_linked_list(values):\n",
    "    if not values:\n",
    "        return None\n",
    "    head = ListNode(values[0])\n",
    "    current = head\n",
    "    for value in values[1:]:\n",
    "        current.next = ListNode(value)\n",
    "        current = current.next\n",
    "    return head\n",
    "\n",
    "# Get user input for linked list values\n",
    "values = list(map(int, input(\"Enter values for the linked list (space-separated): \").split()))\n",
    "\n",
    "# Create linked list\n",
    "linked_list = create_linked_list(values)\n",
    "\n",
    "# Problem 12: Rearrange a linked list such that all even positioned nodes are placed at the end.\n",
    "rearranged_list = rearrange_linked_list(linked_list)\n",
    "\n",
    "# Print the original and rearranged linked lists\n",
    "print(\"\\nOriginal Linked List:\")\n",
    "print_linked_list(linked_list)\n",
    "\n",
    "print(\"\\nRearranged Linked List:\")\n",
    "print_linked_list(rearranged_list)"
   ]
  },
  {
   "cell_type": "code",
   "execution_count": 18,
   "id": "e671c722-1d38-4247-bcb2-824f4168c794",
   "metadata": {},
   "outputs": [
    {
     "name": "stdin",
     "output_type": "stream",
     "text": [
      "Enter values for the linked list (space-separated):  1 2 3\n"
     ]
    },
    {
     "name": "stdout",
     "output_type": "stream",
     "text": [
      "\n",
      "Original Linked List:\n",
      "1 -> 2 -> 4 -> None\n",
      "\n",
      "Linked List after Adding One:\n",
      "1 -> 2 -> 4 -> None\n"
     ]
    }
   ],
   "source": [
    "#Problem 13: Given a non-negative number represented as a linked list, add one to it.\n",
    "\n",
    "class ListNode:\n",
    "    def __init__(self, value=0, next=None):\n",
    "        self.value = value\n",
    "        self.next = next\n",
    "\n",
    "def add_one_to_linked_list(head):\n",
    "    dummy = ListNode(0)\n",
    "    dummy.next = head\n",
    "    current = dummy\n",
    "\n",
    "    # Find the rightmost non-nine digit\n",
    "    last_non_nine = None\n",
    "    while current:\n",
    "        if current.value != 9:\n",
    "            last_non_nine = current\n",
    "        current = current.next\n",
    "\n",
    "    # Increment the rightmost non-nine digit (if exists) and set the following digits to zero\n",
    "    if last_non_nine:\n",
    "        last_non_nine.value += 1\n",
    "        current = last_non_nine.next\n",
    "        while current:\n",
    "            current.value = 0\n",
    "            current = current.next\n",
    "    else:\n",
    "        # If no non-nine digit found, insert a new digit at the beginning\n",
    "        new_digit = ListNode(1)\n",
    "        new_digit.next = dummy.next\n",
    "        dummy.next = new_digit\n",
    "\n",
    "    return dummy.next\n",
    "\n",
    "def print_linked_list(head):\n",
    "    current = head\n",
    "    while current:\n",
    "        print(current.value, end=\" -> \")\n",
    "        current = current.next\n",
    "    print(\"None\")\n",
    "\n",
    "# Helper function to create a linked list from a list of values\n",
    "def create_linked_list(values):\n",
    "    if not values:\n",
    "        return None\n",
    "    head = ListNode(values[0])\n",
    "    current = head\n",
    "    for value in values[1:]:\n",
    "        current.next = ListNode(value)\n",
    "        current = current.next\n",
    "    return head\n",
    "\n",
    "# Get user input for linked list values\n",
    "values = list(map(int, input(\"Enter values for the linked list (space-separated): \").split()))\n",
    "\n",
    "# Create linked list\n",
    "linked_list = create_linked_list(values)\n",
    "\n",
    "# Problem 13: Given a non-negative number represented as a linked list, add one to it.\n",
    "result_list = add_one_to_linked_list(linked_list)\n",
    "\n",
    "# Print the original linked list and the result\n",
    "print(\"\\nOriginal Linked List:\")\n",
    "print_linked_list(linked_list)\n",
    "\n",
    "print(\"\\nLinked List after Adding One:\")\n",
    "print_linked_list(result_list)"
   ]
  },
  {
   "cell_type": "code",
   "execution_count": 19,
   "id": "8ca2d3a0-45d5-4968-9af4-00ce6a75b8d9",
   "metadata": {},
   "outputs": [
    {
     "name": "stdin",
     "output_type": "stream",
     "text": [
      "Enter a sorted array (space-separated):  1 3 5 6\n",
      "Enter the target value:  5\n"
     ]
    },
    {
     "name": "stdout",
     "output_type": "stream",
     "text": [
      "\n",
      "Index of Target (5): 2\n"
     ]
    }
   ],
   "source": [
    " #Problem 14: Given a sorted array and a target value, return the index if the target is found. If not, return the\n",
    "#index where it would be inserted.\n",
    "\n",
    "def search_insert_position(nums, target):\n",
    "    if not nums:\n",
    "        return 0\n",
    "\n",
    "    left, right = 0, len(nums) - 1\n",
    "\n",
    "    while left <= right:\n",
    "        mid = (left + right) // 2\n",
    "\n",
    "        if nums[mid] == target:\n",
    "            return mid\n",
    "        elif nums[mid] < target:\n",
    "            left = mid + 1\n",
    "        else:\n",
    "            right = mid - 1\n",
    "\n",
    "    return left\n",
    "\n",
    "# Get user input for the sorted array\n",
    "nums = list(map(int, input(\"Enter a sorted array (space-separated): \").split()))\n",
    "\n",
    "# Get user input for the target value\n",
    "target = int(input(\"Enter the target value: \"))\n",
    "\n",
    "# Problem 14: Return the index if the target is found, otherwise return the index where it would be inserted.\n",
    "result = search_insert_position(nums, target)\n",
    "\n",
    "print(f\"\\nIndex of Target ({target}): {result}\")"
   ]
  },
  {
   "cell_type": "code",
   "execution_count": 20,
   "id": "b6a98f94-92ae-4dd0-9b7f-2ece5672009a",
   "metadata": {},
   "outputs": [
    {
     "name": "stdin",
     "output_type": "stream",
     "text": [
      "Enter a rotated sorted array (space-separated):  4 5 6 7 0 1 2\n"
     ]
    },
    {
     "name": "stdout",
     "output_type": "stream",
     "text": [
      "\n",
      "Minimum Element in Rotated Sorted Array: 0\n"
     ]
    }
   ],
   "source": [
    "#Problem 15: Find the minimum element in a rotated sorted array.\n",
    "\n",
    "def find_minimum_in_rotated_sorted_array(nums):\n",
    "    if not nums:\n",
    "        return None\n",
    "\n",
    "    left, right = 0, len(nums) - 1\n",
    "\n",
    "    while left < right:\n",
    "        mid = (left + right) // 2\n",
    "\n",
    "        if nums[mid] > nums[right]:\n",
    "            left = mid + 1\n",
    "        else:\n",
    "            right = mid\n",
    "\n",
    "    return nums[left]\n",
    "\n",
    "# Get user input for the rotated sorted array\n",
    "nums = list(map(int, input(\"Enter a rotated sorted array (space-separated): \").split()))\n",
    "\n",
    "# Problem 15: Find the minimum element in a rotated sorted array.\n",
    "minimum_element = find_minimum_in_rotated_sorted_array(nums)\n",
    "\n",
    "print(f\"\\nMinimum Element in Rotated Sorted Array: {minimum_element}\")"
   ]
  },
  {
   "cell_type": "code",
   "execution_count": 1,
   "id": "c07d5850-22ba-49e9-8cbb-9ac54e0c7c1d",
   "metadata": {},
   "outputs": [
    {
     "name": "stdout",
     "output_type": "stream",
     "text": [
      "The peak element is: 3\n"
     ]
    }
   ],
   "source": [
    "#Problem 17: Find the peak element in an array. A peak element is greater than its neighbors.\n",
    "def find_peak_element(nums):\n",
    "    if not nums:\n",
    "        return None  # No peak element in an empty array\n",
    "\n",
    "    left, right = 0, len(nums) - 1\n",
    "\n",
    "    while left < right:\n",
    "        mid = left + (right - left) // 2\n",
    "\n",
    "        if nums[mid] > nums[mid + 1]:\n",
    "            # The peak element is on the left side, including mid\n",
    "            right = mid\n",
    "        else:\n",
    "            # The peak element is on the right side, excluding mid\n",
    "            left = mid + 1\n",
    "\n",
    "    return nums[left]\n",
    "\n",
    "# Example usage:\n",
    "nums = [1, 2, 3, 1]\n",
    "peak_element = find_peak_element(nums)\n",
    "print(f\"The peak element is: {peak_element}\")"
   ]
  },
  {
   "cell_type": "code",
   "execution_count": 11,
   "id": "74a0dcce-8f8f-47a4-b10d-3bd83fc34efc",
   "metadata": {},
   "outputs": [
    {
     "name": "stdout",
     "output_type": "stream",
     "text": [
      "The number of negative numbers is: 0\n"
     ]
    }
   ],
   "source": [
    "##Problem 18: Given a m x n matrix where each row and column is sorted in ascending order, count the number\n",
    "#of negative numbers.\n",
    "def count_negatives(matrix):\n",
    "    if not matrix or not matrix[0]:\n",
    "        return 0  # Empty matrix or empty row\n",
    "\n",
    "    rows, cols = len(matrix), len(matrix[0])\n",
    "    count = 0\n",
    "    row, col = rows - 1, 0  # Start from the bottom-left corner\n",
    "\n",
    "    while row >= 0 and col < cols:\n",
    "        if matrix[row][col] < 0:\n",
    "            # All elements to the right of matrix[row][col] will also be negative\n",
    "            count += (cols - col)\n",
    "            row -= 1\n",
    "        else:\n",
    "            col += 1\n",
    "\n",
    "    return count\n",
    "\n",
    "# Example usage:\n",
    "matrix = [\n",
    "    [-3, -2, -1, 1],\n",
    "    [-2,  2,  3,  4],\n",
    "    [ 4,  5,  7,  8]\n",
    "]\n",
    "\n",
    "negatives_count = count_negatives(matrix)\n",
    "print(f\"The number of negative numbers is: {negatives_count}\")"
   ]
  },
  {
   "cell_type": "code",
   "execution_count": 2,
   "id": "0ebd17b5-c63b-4c43-a649-e3e23f076839",
   "metadata": {},
   "outputs": [
    {
     "name": "stdin",
     "output_type": "stream",
     "text": [
      "Enter the target value:  3\n",
      "Enter the number of rows:  3\n",
      "Enter the number of columns:  4\n"
     ]
    },
    {
     "name": "stdout",
     "output_type": "stream",
     "text": [
      "Enter the matrix elements row-wise:\n"
     ]
    },
    {
     "name": "stdin",
     "output_type": "stream",
     "text": [
      " 1 3 5 7\n",
      " 10 11 16 20\n",
      " 13 30 34 60\n"
     ]
    },
    {
     "name": "stdout",
     "output_type": "stream",
     "text": [
      "The target value 3 is present in the matrix.\n"
     ]
    }
   ],
   "source": [
    "#Problem 19: Given a 2D matrix sorted in ascending order in each row, and the first integer of each row is\n",
    "#greater than the last integer of the previous row, determine if a target value is present in the matrix.\n",
    "\n",
    "def search_matrix(matrix, target):\n",
    "    if not matrix or not matrix[0]:\n",
    "        return False  # Empty matrix or empty row\n",
    "\n",
    "    rows, cols = len(matrix), len(matrix[0])\n",
    "    row, col = 0, cols - 1  # Start from the top-right corner\n",
    "\n",
    "    while row < rows and col >= 0:\n",
    "        if matrix[row][col] == target:\n",
    "            return True\n",
    "        elif matrix[row][col] < target:\n",
    "            row += 1  # Move down in the current column\n",
    "        else:\n",
    "            col -= 1  # Move left in the current row\n",
    "\n",
    "    return False\n",
    "\n",
    "# Input prompt for the matrix\n",
    "def input_matrix():\n",
    "    matrix = []\n",
    "    rows = int(input(\"Enter the number of rows: \"))\n",
    "    cols = int(input(\"Enter the number of columns: \"))\n",
    "\n",
    "    print(\"Enter the matrix elements row-wise:\")\n",
    "    for i in range(rows):\n",
    "        row = list(map(int, input().split()))\n",
    "        matrix.append(row)\n",
    "\n",
    "    return matrix\n",
    "\n",
    "# Input target value\n",
    "target = int(input(\"Enter the target value: \"))\n",
    "\n",
    "# Get the matrix from the user\n",
    "matrix = input_matrix()\n",
    "\n",
    "# Check if the target value is present in the matrix\n",
    "result = search_matrix(matrix, target)\n",
    "\n",
    "# Display the result\n",
    "if result:\n",
    "    print(f\"The target value {target} is present in the matrix.\")\n",
    "else:\n",
    "    print(f\"The target value {target} is not present in the matrix.\")"
   ]
  },
  {
   "cell_type": "code",
   "execution_count": 3,
   "id": "09645fda-d5ff-4773-a2b4-beddbe7ebdc5",
   "metadata": {},
   "outputs": [
    {
     "name": "stdout",
     "output_type": "stream",
     "text": [
      "The median of the combined sorted arrays is: 2\n"
     ]
    }
   ],
   "source": [
    "#Problem 20: Find Median in Two Sorted Arrays\n",
    "#Problem: Given two sorted arrays, find the median of the combined sorted array.\n",
    "\n",
    "def find_median_sorted_arrays(nums1, nums2):\n",
    "    # Merge the sorted arrays\n",
    "    merged_array = merge_sorted_arrays(nums1, nums2)\n",
    "\n",
    "    # Calculate the median based on the length of the merged array\n",
    "    median_index = len(merged_array) // 2\n",
    "    if len(merged_array) % 2 == 0:\n",
    "        # If the length is even, take the average of the two middle elements\n",
    "        median = (merged_array[median_index - 1] + merged_array[median_index]) / 2\n",
    "    else:\n",
    "        # If the length is odd, take the middle element\n",
    "        median = merged_array[median_index]\n",
    "\n",
    "    return median\n",
    "\n",
    "def merge_sorted_arrays(nums1, nums2):\n",
    "    merged_array = []\n",
    "    i, j = 0, 0\n",
    "\n",
    "    while i < len(nums1) and j < len(nums2):\n",
    "        if nums1[i] < nums2[j]:\n",
    "            merged_array.append(nums1[i])\n",
    "            i += 1\n",
    "        else:\n",
    "            merged_array.append(nums2[j])\n",
    "            j += 1\n",
    "\n",
    "    # Append the remaining elements from both arrays\n",
    "    merged_array.extend(nums1[i:])\n",
    "    merged_array.extend(nums2[j:])\n",
    "\n",
    "    return merged_array\n",
    "\n",
    "# Example usage:\n",
    "nums1 = [1, 3]\n",
    "nums2 = [2]\n",
    "\n",
    "median = find_median_sorted_arrays(nums1, nums2)\n",
    "print(f\"The median of the combined sorted arrays is: {median}\")"
   ]
  },
  {
   "cell_type": "code",
   "execution_count": 4,
   "id": "ed46b064-0c60-4dfb-b35c-50ec7bf5c29a",
   "metadata": {},
   "outputs": [
    {
     "name": "stdout",
     "output_type": "stream",
     "text": [
      "The smallest letter greater than f is: h\n"
     ]
    }
   ],
   "source": [
    "#Problem 21: Given a sorted character array and a target letter, find the smallest letter in the array that is\n",
    "#greater than the target.\n",
    "\n",
    "def next_greatest_letter(letters, target):\n",
    "    left, right = 0, len(letters) - 1\n",
    "\n",
    "    while left <= right:\n",
    "        mid = left + (right - left) // 2\n",
    "\n",
    "        if letters[mid] <= target:\n",
    "            left = mid + 1\n",
    "        else:\n",
    "            right = mid - 1\n",
    "\n",
    "    # If the right pointer is out of bounds, return the first element\n",
    "    return letters[left] if left <= len(letters) - 1 else letters[0]\n",
    "\n",
    "# Example usage:\n",
    "sorted_letters = ['a', 'c', 'f', 'h']\n",
    "target_letter = 'f'\n",
    "\n",
    "result = next_greatest_letter(sorted_letters, target_letter)\n",
    "print(f\"The smallest letter greater than {target_letter} is: {result}\")"
   ]
  },
  {
   "cell_type": "code",
   "execution_count": 5,
   "id": "194d917e-3af3-47db-b7d3-a9195745a9f6",
   "metadata": {},
   "outputs": [
    {
     "name": "stdin",
     "output_type": "stream",
     "text": [
      "Enter the target letter:  a\n",
      "Enter the sorted character array (each character separated by space):  c f j\n"
     ]
    },
    {
     "name": "stdout",
     "output_type": "stream",
     "text": [
      "The smallest letter greater than a is: c\n"
     ]
    }
   ],
   "source": [
    "#Problem 21: Given a sorted character array and a target letter, find the smallest letter in the array that is\n",
    "#greater than the target.\n",
    "\n",
    "def next_greatest_letter(letters, target):\n",
    "    left, right = 0, len(letters) - 1\n",
    "\n",
    "    while left <= right:\n",
    "        mid = left + (right - left) // 2\n",
    "\n",
    "        if letters[mid] <= target:\n",
    "            left = mid + 1\n",
    "        else:\n",
    "            right = mid - 1\n",
    "\n",
    "    # If the right pointer is out of bounds, return the first element\n",
    "    return letters[left] if left <= len(letters) - 1 else letters[0]\n",
    "\n",
    "# Input prompt for the sorted character array\n",
    "def input_sorted_letters():\n",
    "    letters = input(\"Enter the sorted character array (each character separated by space): \").split()\n",
    "    return sorted(letters)\n",
    "\n",
    "# Input prompt for the target letter\n",
    "target_letter = input(\"Enter the target letter: \")\n",
    "\n",
    "# Get the sorted letters from the user\n",
    "sorted_letters = input_sorted_letters()\n",
    "\n",
    "# Find the smallest letter greater than the target\n",
    "result = next_greatest_letter(sorted_letters, target_letter)\n",
    "print(f\"The smallest letter greater than {target_letter} is: {result}\")\n"
   ]
  },
  {
   "cell_type": "code",
   "execution_count": 6,
   "id": "4fa05492-5175-4ca1-85a9-12968c7a297b",
   "metadata": {},
   "outputs": [
    {
     "name": "stdin",
     "output_type": "stream",
     "text": [
      "Enter the array of colors (each color separated by space, use 0 for red, 1 for white, and 2 for blue):  2 0 2 1 1 0\n"
     ]
    },
    {
     "name": "stdout",
     "output_type": "stream",
     "text": [
      "The sorted array of colors is: [0, 0, 1, 1, 2, 2]\n"
     ]
    }
   ],
   "source": [
    "#Problem 22: Given an array with n objects colored red, white, or blue, sort them in-place so that objects of\n",
    "#the same color are adjacent, with the colors in the order red, white, and blue.\n",
    "\n",
    "def sort_colors(nums):\n",
    "    low, mid, high = 0, 0, len(nums) - 1\n",
    "\n",
    "    while mid <= high:\n",
    "        if nums[mid] == 0:\n",
    "            nums[low], nums[mid] = nums[mid], nums[low]\n",
    "            low += 1\n",
    "            mid += 1\n",
    "        elif nums[mid] == 1:\n",
    "            mid += 1\n",
    "        else:\n",
    "            nums[mid], nums[high] = nums[high], nums[mid]\n",
    "            high -= 1\n",
    "\n",
    "# Input prompt for the array of colors\n",
    "def input_colors():\n",
    "    colors = input(\"Enter the array of colors (each color separated by space, use 0 for red, 1 for white, and 2 for blue): \").split()\n",
    "    return [int(color) for color in colors]\n",
    "\n",
    "# Get the array of colors from the user\n",
    "colors_array = input_colors()\n",
    "\n",
    "# Sort the array of colors in-place\n",
    "sort_colors(colors_array)\n",
    "\n",
    "# Display the sorted array\n",
    "print(\"The sorted array of colors is:\", colors_array)"
   ]
  },
  {
   "cell_type": "code",
   "execution_count": 7,
   "id": "2c3103da-575d-457e-99d4-e6abc3c7e2fb",
   "metadata": {},
   "outputs": [
    {
     "name": "stdin",
     "output_type": "stream",
     "text": [
      "Enter the value of k:  2\n",
      "Enter the unsorted array (each element separated by space):  3 2 1 5 6 4\n"
     ]
    },
    {
     "name": "stdout",
     "output_type": "stream",
     "text": [
      "The 2th largest element in the array is: 5\n"
     ]
    }
   ],
   "source": [
    "#Problem 23: Find the kth largest element in an unsorted array.\n",
    "\n",
    "def find_kth_largest(nums, k):\n",
    "    nums.sort(reverse=True)\n",
    "    return nums[k - 1]\n",
    "\n",
    "# Input prompt for the array\n",
    "def input_array():\n",
    "    array = input(\"Enter the unsorted array (each element separated by space): \").split()\n",
    "    return [int(element) for element in array]\n",
    "\n",
    "# Input prompt for k\n",
    "k = int(input(\"Enter the value of k: \"))\n",
    "\n",
    "# Get the unsorted array from the user\n",
    "unsorted_array = input_array()\n",
    "\n",
    "# Find the kth largest element\n",
    "kth_largest = find_kth_largest(unsorted_array, k)\n",
    "\n",
    "# Display the result\n",
    "print(f\"The {k}th largest element in the array is: {kth_largest}\")"
   ]
  },
  {
   "cell_type": "code",
   "execution_count": 8,
   "id": "1f34bcf4-a7d3-4be3-9154-446212678cb5",
   "metadata": {},
   "outputs": [
    {
     "name": "stdin",
     "output_type": "stream",
     "text": [
      "Enter the unsorted array (each element separated by space):  3 5 2 1 6 4\n"
     ]
    },
    {
     "name": "stdout",
     "output_type": "stream",
     "text": [
      "The reordered array is: [3, 5, 2, 6, 1, 4]\n"
     ]
    }
   ],
   "source": [
    "#Problem 24: Given an unsorted array, reorder it in-place such that nums[0] <= nums[1] >= nums[2] <=\n",
    "#nums[3]...\n",
    "\n",
    "def wiggle_sort(nums):\n",
    "    n = len(nums)\n",
    "\n",
    "    for i in range(1, n, 2):\n",
    "        if i < n - 1 and nums[i] < nums[i + 1]:\n",
    "            nums[i], nums[i + 1] = nums[i + 1], nums[i]\n",
    "\n",
    "    for i in range(0, n, 2):\n",
    "        if i < n - 1 and nums[i] > nums[i + 1]:\n",
    "            nums[i], nums[i + 1] = nums[i + 1], nums[i]\n",
    "\n",
    "# Input prompt for the array\n",
    "def input_array():\n",
    "    array = input(\"Enter the unsorted array (each element separated by space): \").split()\n",
    "    return [int(element) for element in array]\n",
    "\n",
    "# Get the unsorted array from the user\n",
    "unsorted_array = input_array()\n",
    "\n",
    "# Reorder the array in-place\n",
    "wiggle_sort(unsorted_array)\n",
    "\n",
    "# Display the result\n",
    "print(\"The reordered array is:\", unsorted_array)"
   ]
  },
  {
   "cell_type": "code",
   "execution_count": 9,
   "id": "b195b053-46c4-44c9-bf9f-af616688c209",
   "metadata": {},
   "outputs": [
    {
     "name": "stdin",
     "output_type": "stream",
     "text": [
      "Enter the array of integers (each element separated by space):  1 2 3 4 5\n"
     ]
    },
    {
     "name": "stdout",
     "output_type": "stream",
     "text": [
      "The sum of elements in the array is: 15\n"
     ]
    }
   ],
   "source": [
    "#Problem 25: Given an array of integers, calculate the sum of all its elements.\n",
    "\n",
    "def calculate_sum_of_elements(nums):\n",
    "    return sum(nums)\n",
    "\n",
    "# Input prompt for the array of integers\n",
    "def input_array():\n",
    "    array = input(\"Enter the array of integers (each element separated by space): \").split()\n",
    "    return [int(element) for element in array]\n",
    "\n",
    "# Get the array of integers from the user\n",
    "integer_array = input_array()\n",
    "\n",
    "# Calculate the sum of elements\n",
    "sum_of_elements = calculate_sum_of_elements(integer_array)\n",
    "\n",
    "# Display the result\n",
    "print(f\"The sum of elements in the array is: {sum_of_elements}\")"
   ]
  },
  {
   "cell_type": "code",
   "execution_count": 10,
   "id": "c4f4fe1f-72a2-404a-9137-6f9ec9c337fe",
   "metadata": {},
   "outputs": [
    {
     "name": "stdin",
     "output_type": "stream",
     "text": [
      "Enter the array of integers (each element separated by space):  3 7 2 9 4 1\n"
     ]
    },
    {
     "name": "stdout",
     "output_type": "stream",
     "text": [
      "The maximum element in the array is: 9\n"
     ]
    }
   ],
   "source": [
    "#Problem 26: Find the maximum element in an array of integers.\n",
    "\n",
    "def find_max_element(nums):\n",
    "    if not nums:\n",
    "        return None  # Return None for an empty array\n",
    "\n",
    "    max_element = nums[0]\n",
    "\n",
    "    for num in nums[1:]:\n",
    "        if num > max_element:\n",
    "            max_element = num\n",
    "\n",
    "    return max_element\n",
    "\n",
    "# Input prompt for the array of integers\n",
    "def input_array():\n",
    "    array = input(\"Enter the array of integers (each element separated by space): \").split()\n",
    "    return [int(element) for element in array]\n",
    "\n",
    "# Get the array of integers from the user\n",
    "integer_array = input_array()\n",
    "\n",
    "# Find the maximum element\n",
    "max_element = find_max_element(integer_array)\n",
    "\n",
    "# Display the result\n",
    "if max_element is not None:\n",
    "    print(f\"The maximum element in the array is: {max_element}\")\n",
    "else:\n",
    "    print(\"The array is empty.\")"
   ]
  },
  {
   "cell_type": "code",
   "execution_count": 11,
   "id": "407d225a-19f7-46b0-8ba1-ebf669b1053c",
   "metadata": {},
   "outputs": [
    {
     "name": "stdin",
     "output_type": "stream",
     "text": [
      "Enter the array of integers (each element separated by space):  5 3 8 2 7 4\n"
     ]
    },
    {
     "name": "stdout",
     "output_type": "stream",
     "text": [
      "The maximum element in the array is: 8\n"
     ]
    }
   ],
   "source": [
    "#Problem 27: Implement linear search to find the index of a target element in an array.\n",
    "\n",
    "def find_max_element(nums):\n",
    "    if not nums:\n",
    "        return None  # Return None for an empty array\n",
    "\n",
    "    max_element = nums[0]\n",
    "\n",
    "    for num in nums[1:]:\n",
    "        if num > max_element:\n",
    "            max_element = num\n",
    "\n",
    "    return max_element\n",
    "\n",
    "# Input prompt for the array of integers\n",
    "def input_array():\n",
    "    array = input(\"Enter the array of integers (each element separated by space): \").split()\n",
    "    return [int(element) for element in array]\n",
    "\n",
    "# Get the array of integers from the user\n",
    "integer_array = input_array()\n",
    "\n",
    "# Find the maximum element\n",
    "max_element = find_max_element(integer_array)\n",
    "\n",
    "# Display the result\n",
    "if max_element is not None:\n",
    "    print(f\"The maximum element in the array is: {max_element}\")\n",
    "else:\n",
    "    print(\"The array is empty.\")"
   ]
  },
  {
   "cell_type": "code",
   "execution_count": 12,
   "id": "47ddaca4-bc71-4e98-905b-41c8d21686d8",
   "metadata": {},
   "outputs": [
    {
     "name": "stdin",
     "output_type": "stream",
     "text": [
      "Enter a non-negative integer to calculate its factorial:  5\n"
     ]
    },
    {
     "name": "stdout",
     "output_type": "stream",
     "text": [
      "The factorial of 5 is: 120\n"
     ]
    }
   ],
   "source": [
    "#Problem 28 Calculate the factorial of a given number.\n",
    "\n",
    "def calculate_factorial(n):\n",
    "    if n < 0:\n",
    "        return None  # Factorial is undefined for negative numbers\n",
    "    elif n == 0 or n == 1:\n",
    "        return 1  # Factorial of 0 and 1 is 1\n",
    "\n",
    "    factorial_result = 1\n",
    "    for i in range(2, n + 1):\n",
    "        factorial_result *= i\n",
    "\n",
    "    return factorial_result\n",
    "\n",
    "# Input prompt for the number\n",
    "number = int(input(\"Enter a non-negative integer to calculate its factorial: \"))\n",
    "\n",
    "# Calculate the factorial\n",
    "result = calculate_factorial(number)\n",
    "\n",
    "# Display the result\n",
    "if result is not None:\n",
    "    print(f\"The factorial of {number} is: {result}\")\n",
    "else:\n",
    "    print(\"Factorial is undefined for negative numbers.\")"
   ]
  },
  {
   "cell_type": "code",
   "execution_count": 13,
   "id": "f3d8eab0-f0cb-49b3-9d17-35c0d2eeaf00",
   "metadata": {},
   "outputs": [
    {
     "name": "stdin",
     "output_type": "stream",
     "text": [
      "Enter a positive integer to check if it's prime:  7\n"
     ]
    },
    {
     "name": "stdout",
     "output_type": "stream",
     "text": [
      "7 is a prime number.\n"
     ]
    }
   ],
   "source": [
    "#Problem 29: Check if a given number is a prime number.\n",
    "\n",
    "import math\n",
    "\n",
    "def is_prime(number):\n",
    "    if number <= 1:\n",
    "        return False  # Numbers less than or equal to 1 are not prime\n",
    "\n",
    "    # Check for divisors up to the square root of the number\n",
    "    for i in range(2, int(math.sqrt(number)) + 1):\n",
    "        if number % i == 0:\n",
    "            return False  # Number is not prime if it has a divisor\n",
    "\n",
    "    return True  # Number is prime if no divisors are found\n",
    "\n",
    "# Input prompt for the number\n",
    "number = int(input(\"Enter a positive integer to check if it's prime: \"))\n",
    "\n",
    "# Check if the number is prime\n",
    "if is_prime(number):\n",
    "    print(f\"{number} is a prime number.\")\n",
    "else:\n",
    "    print(f\"{number} is not a prime number.\")"
   ]
  },
  {
   "cell_type": "code",
   "execution_count": 19,
   "id": "83570c94-7cb2-41b8-aa35-093e845b6011",
   "metadata": {},
   "outputs": [
    {
     "name": "stdin",
     "output_type": "stream",
     "text": [
      "Enter the value of n for generating Fibonacci series:  8\n"
     ]
    },
    {
     "name": "stdout",
     "output_type": "stream",
     "text": [
      "Fibonacci series up to the 8th Fibonacci number: [0, 1, 1, 2, 3, 5, 8, 13]\n"
     ]
    }
   ],
   "source": [
    "#Problem 30: Generate the Fibonacci series up to a given number n.\n",
    "\n",
    "def generate_fibonacci_series(n):\n",
    "    fibonacci_series = [0, 1]\n",
    "\n",
    "    while len(fibonacci_series) < n:\n",
    "        next_number = fibonacci_series[-1] + fibonacci_series[-2]\n",
    "        fibonacci_series.append(next_number)\n",
    "\n",
    "    return fibonacci_series\n",
    "\n",
    "# Input prompt for the value of n\n",
    "n = int(input(\"Enter the value of n for generating Fibonacci series: \"))\n",
    "\n",
    "# Generate the Fibonacci series up to the nth Fibonacci number\n",
    "fibonacci_series = generate_fibonacci_series(n)\n",
    "\n",
    "# Display the result\n",
    "print(f\"Fibonacci series up to the {n}th Fibonacci number:\", fibonacci_series)"
   ]
  },
  {
   "cell_type": "code",
   "execution_count": 20,
   "id": "4c3101de-08a4-4b4b-b3d4-abdd94d5bacc",
   "metadata": {},
   "outputs": [
    {
     "name": "stdin",
     "output_type": "stream",
     "text": [
      "Enter the base:  3\n",
      "Enter the exponent (a non-negative integer):  4\n"
     ]
    },
    {
     "name": "stdout",
     "output_type": "stream",
     "text": [
      "3.0 to the power of 4 is: 81.0\n"
     ]
    }
   ],
   "source": [
    "#Problem 31: Calculate the power of a number using recursion.\n",
    "\n",
    "def power(base, exponent):\n",
    "    if exponent == 0:\n",
    "        return 1\n",
    "    else:\n",
    "        return base * power(base, exponent - 1)\n",
    "\n",
    "# Input prompts for the base and exponent\n",
    "base = float(input(\"Enter the base: \"))\n",
    "exponent = int(input(\"Enter the exponent (a non-negative integer): \"))\n",
    "\n",
    "# Check if the exponent is non-negative\n",
    "if exponent < 0:\n",
    "    print(\"Exponent should be a non-negative integer.\")\n",
    "else:\n",
    "    # Calculate the power using recursion\n",
    "    result = power(base, exponent)\n",
    "    print(f\"{base} to the power of {exponent} is: {result}\")"
   ]
  },
  {
   "cell_type": "code",
   "execution_count": 21,
   "id": "02c02a3f-a51f-409d-8dc5-027ad2e81fc9",
   "metadata": {},
   "outputs": [
    {
     "name": "stdin",
     "output_type": "stream",
     "text": [
      "Enter a string to reverse:  hello\n"
     ]
    },
    {
     "name": "stdout",
     "output_type": "stream",
     "text": [
      "Original String: hello\n",
      "Reversed String: olleh\n"
     ]
    }
   ],
   "source": [
    "#Problem 32: Reverse a given string.\n",
    "\n",
    "def reverse_string(input_string):\n",
    "    return input_string[::-1]\n",
    "\n",
    "# Input prompt for the string\n",
    "input_string = input(\"Enter a string to reverse: \")\n",
    "\n",
    "# Reverse the string\n",
    "reversed_string = reverse_string(input_string)\n",
    "\n",
    "# Display the result\n",
    "print(\"Original String:\", input_string)\n",
    "print(\"Reversed String:\", reversed_string)"
   ]
  },
  {
   "cell_type": "code",
   "execution_count": null,
   "id": "09856d3e-d29c-40aa-b6ce-fac09faeb767",
   "metadata": {},
   "outputs": [],
   "source": []
  }
 ],
 "metadata": {
  "kernelspec": {
   "display_name": "Python 3 (ipykernel)",
   "language": "python",
   "name": "python3"
  },
  "language_info": {
   "codemirror_mode": {
    "name": "ipython",
    "version": 3
   },
   "file_extension": ".py",
   "mimetype": "text/x-python",
   "name": "python",
   "nbconvert_exporter": "python",
   "pygments_lexer": "ipython3",
   "version": "3.10.8"
  }
 },
 "nbformat": 4,
 "nbformat_minor": 5
}
